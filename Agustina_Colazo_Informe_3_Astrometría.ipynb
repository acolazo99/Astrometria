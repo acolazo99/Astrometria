{
 "cells": [
  {
   "cell_type": "markdown",
   "metadata": {
    "id": "JKliuf_xrLQi"
   },
   "source": [
    "## Informe Trabajo Práctico 3\n",
    "\n",
    "#### Agustina Colazo"
   ]
  },
  {
   "cell_type": "markdown",
   "metadata": {
    "id": "-wk_mkOrrVlb"
   },
   "source": [
    "####  INTRODUCCIÓN\n",
    "\n",
    "El objetivo de este informe es acceder a grandes conjuntos de datos \n",
    "observacionales y analizarlos estadisticamente, utilizando una Base de Datos y a traves del lenguaje: Structured Query Language (SQL). Una Base de datos es un lugar donde se almacenan sistematicamente, grandes conjuntos de datos pertenecientes a un mismo contexto. A su vez, se puede acceder a un subconjunto de datos con ciertas caracteristicas en comun, asi se obtiene una Tabla. La mismas esta compuestas por Campos y Registros. Los Campos son la minima unidad de informacion, se trata de una caracteristica en particular por ejemplo, Masa, Distancia, Tipo Espectral, etc y se corresponde a cada columna de la Tabla. Por otro lado, cada objeto con sus caracteristicas forma un Registro, es decir que es un onjeto unico de datos implicitamente estructurados en una Tabla y se corresponde a una fila de la misma.\n",
    "\n",
    "A continuacion, se utiliza el catalogo de exoplanetas de la base de datos exoplanets.eu y se analizan algunas de las principales caracteristicas de dichos sistemas tales como su masa, radio, periodo orbital, etc. En particular, se estudia la distribucion de masas y periodos orbitales para planetas descubiertos con diferentes tecnicas observacionales. Se analiza si la distribucion de distancias a estrellas con exoplanetas es una distribucion Gaussiana o no. Por ultimo, se propone un modelo para la relacion entre las masas y radios de los exoplanetas y se realiza un ajuste del modelo."
   ]
  },
  {
   "cell_type": "markdown",
   "metadata": {
    "id": "XcwpiguirbYw"
   },
   "source": [
    "Se instala el paquete pyvo necesario para acceder a la base de datos (de manera remota) y hacer el query para obtener una tabla con los datos de interes. Se realiza un query de prueba."
   ]
  },
  {
   "cell_type": "code",
   "execution_count": 6,
   "metadata": {
    "colab": {
     "base_uri": "https://localhost:8080/"
    },
    "id": "HIXjPzd1rQpO",
    "outputId": "e7473d48-1f38-474c-b547-8b186b34974e",
    "scrolled": true
   },
   "outputs": [
    {
     "name": "stdout",
     "output_type": "stream",
     "text": [
      "/usr/bin/python3: No module named pip\n",
      "Note: you may need to restart the kernel to use updated packages.\n"
     ]
    }
   ],
   "source": [
    "pip install pyvo"
   ]
  },
  {
   "cell_type": "code",
   "execution_count": 7,
   "metadata": {
    "colab": {
     "base_uri": "https://localhost:8080/"
    },
    "id": "of68X9RErdyc",
    "outputId": "66f4a771-6c0c-463f-b828-87ed9fb04fdc"
   },
   "outputs": [
    {
     "name": "stdout",
     "output_type": "stream",
     "text": [
      "/usr/bin/python3: No module named pip\n",
      "Note: you may need to restart the kernel to use updated packages.\n"
     ]
    }
   ],
   "source": [
    "pip install scikit-learn"
   ]
  },
  {
   "cell_type": "code",
   "execution_count": 8,
   "metadata": {
    "id": "q5F38Uzqrf8N"
   },
   "outputs": [
    {
     "ename": "ModuleNotFoundError",
     "evalue": "No module named 'pyvo'",
     "output_type": "error",
     "traceback": [
      "\u001b[0;31m---------------------------------------------------------------------------\u001b[0m",
      "\u001b[0;31mModuleNotFoundError\u001b[0m                       Traceback (most recent call last)",
      "\u001b[0;32m/tmp/ipykernel_6516/1877441540.py\u001b[0m in \u001b[0;36m<module>\u001b[0;34m\u001b[0m\n\u001b[1;32m      1\u001b[0m \u001b[0;31m# se descargar las librerias necesarias\u001b[0m\u001b[0;34m\u001b[0m\u001b[0;34m\u001b[0m\u001b[0m\n\u001b[1;32m      2\u001b[0m \u001b[0;34m\u001b[0m\u001b[0m\n\u001b[0;32m----> 3\u001b[0;31m \u001b[0;32mimport\u001b[0m \u001b[0mpyvo\u001b[0m \u001b[0;32mas\u001b[0m \u001b[0mvo\u001b[0m\u001b[0;34m\u001b[0m\u001b[0;34m\u001b[0m\u001b[0m\n\u001b[0m\u001b[1;32m      4\u001b[0m \u001b[0;32mimport\u001b[0m \u001b[0mnumpy\u001b[0m \u001b[0;32mas\u001b[0m \u001b[0mnp\u001b[0m\u001b[0;34m\u001b[0m\u001b[0;34m\u001b[0m\u001b[0m\n\u001b[1;32m      5\u001b[0m \u001b[0;32mimport\u001b[0m \u001b[0mmatplotlib\u001b[0m\u001b[0;34m.\u001b[0m\u001b[0mpyplot\u001b[0m \u001b[0;32mas\u001b[0m \u001b[0mplt\u001b[0m\u001b[0;34m\u001b[0m\u001b[0;34m\u001b[0m\u001b[0m\n",
      "\u001b[0;31mModuleNotFoundError\u001b[0m: No module named 'pyvo'"
     ]
    }
   ],
   "source": [
    "# se descargar las librerias necesarias\n",
    "\n",
    "import pyvo as vo\n",
    "import numpy as np\n",
    "import matplotlib.pyplot as plt\n",
    "import scipy.stats as sp\n",
    "import pandas as pd\n",
    "from sklearn.model_selection import train_test_split"
   ]
  },
  {
   "cell_type": "code",
   "execution_count": null,
   "metadata": {
    "colab": {
     "base_uri": "https://localhost:8080/"
    },
    "id": "3usR30sWrh-i",
    "outputId": "f00db86f-761e-4a88-9710-4322f629fadf"
   },
   "outputs": [],
   "source": [
    "# Se desea obtener una tabla/lista de exoplanetas con las siguientes propiedades: Masa, Periodo Orbital, Tipo de Estrella del Sistema\n",
    "\n",
    "# Utilizo pyvo y selecciono el servidor a partir del cual se obtendran los datos\n",
    "service = vo.dal.TAPService(\"http://voparis-tap-planeto.obspm.fr/tap\")\n",
    "\n",
    "# defino el query, es decir los datos de interes que se van a buscar en la base de datos\n",
    "# Aca se utiliza SQL (Structured Query Language)   \n",
    "query = \"SELECT target_name,mass,period,star_spec_type FROM exoplanet.epn_core\"\n",
    "\n",
    "results = service.search(query)  # obtengo una tabla con los datos del query\n",
    "print(type(results))  # este es una tabla tipo pyvo.dal.tap.TAPResults  (un posible formato de tabla)\n",
    "table = results.to_table()  # ahora la transformo en una 'astropy table'  (otro formato)\n",
    "#datas = table.to_pandas()  # ahora la transformo en un 'data frame' usando pandas (otro formato)\n",
    "vot = results.votable\n",
    "vot.to_xml(\"Prueba_Exoplanets_Data.xml\") # esto me baja una tabla con los datos a la compu\n",
    "print(table)"
   ]
  },
  {
   "cell_type": "markdown",
   "metadata": {
    "id": "_yAhiILttHZf"
   },
   "source": [
    "#### Ejercicio 6: Distribución de Masas y Períodos Orbitales\n",
    "\n",
    "Se examina las distribucions de masas y periodos orbitales de exoplanetas, detectados con las siguientes tecnicas observacionles: Imaging, Radial Velocity, Microlensing, Primary Transit, Astrometry, Transit Timing Variation (TTV) y Pulsar. Se intenta determinar si la tecnica utilizada introduce un sesgo las caracteristicas de los exoplanetas detectados.\n"
   ]
  },
  {
   "cell_type": "code",
   "execution_count": null,
   "metadata": {
    "colab": {
     "base_uri": "https://localhost:8080/",
     "height": 644
    },
    "id": "BrE0TkewtDB-",
    "outputId": "a627e20e-e2c3-4b2a-e1de-62bd97e5fe8a"
   },
   "outputs": [],
   "source": [
    "query0 = \"SELECT target_name,detection_type FROM exoplanet.epn_core WHERE mass<20\"\n",
    "results0 = service.search(query0)  # obtengo una tabla con los exoplanetas y su metodo de deteccion\n",
    "table0 = results0.to_table()  # ahora la transformo en una 'astropy table'  (otro formato)\n",
    "data = table0.to_pandas()  # ahora la transformo en un 'data frame' usando pandas (otro formato)\n",
    "#print(data)\n",
    "#print(data.shape)\n",
    "\n",
    "\n",
    "# Ahora se analizaran las distribuciones de las masas\n",
    "\n",
    "# planetas detectados por Imaging\n",
    "query1 = \"SELECT target_name,detection_type,mass,period FROM exoplanet.epn_core WHERE detection_type='Imaging' and mass<20\" \n",
    "#print(type(query))  me dice que es un string\n",
    "planets_imaging = service.search(query1)  # obtengo una tabla con los datos del query\n",
    "table1 = planets_imaging.to_table() # ahora la transformo en una astropy table que tiene el metodo to_pandas para pasar a un dataframe\n",
    "data1 = table1.to_pandas()  # ahora la transformo en un 'data frame' usando pandas (otro formato)\n",
    "m_img = data1['mass']\n",
    "#aca simplemente hago el histograma de los datos con sus frecuencias \n",
    "plt.hist(m_img, density=True, histtype = 'step', lw = 3, label = 'Imaging')\n",
    "\n",
    "# planetas detectados por Radial Velocity\n",
    "query2 = \"SELECT target_name,detection_type,mass,period FROM exoplanet.epn_core WHERE detection_type='Radial Velocity' and mass<20\" \n",
    "planets_radvel = service.search(query2)  # obtengo una tabla con los datos del query\n",
    "table2 = planets_radvel.to_table()  # ahora la transformo en una astropy table que tiene el metodo to_pandas para pasar a un dataframe\n",
    "data2 = table2.to_pandas()  # ahora la transformo en un 'data frame' usando pandas (otro formato)\n",
    "m_rv = data2['mass']\n",
    "#print(m_radvel)\n",
    "#aca simplemente hago el histograma de los datos con sus frecuencias \n",
    "plt.hist(m_rv, density=True, histtype = 'step', lw = 3 ,label = 'Radial Velocity')\n",
    "\n",
    "# planetas detectados por Timing  (NO HAY NINGUNO)\n",
    "query3 = \"SELECT target_name,detection_type,mass,period FROM exoplanet.epn_core WHERE detection_type='Timing' and mass<20\" \n",
    "planets_timing = service.search(query3)  # obtengo una tabla con los datos del query\n",
    "table3 = planets_timing.to_table()  # ahora la transformo en una 'astropy table'  (otro formato)\n",
    "data3 = table3.to_pandas()  # ahora la transformo en un 'data frame' usando pandas (otro formato)\n",
    "print(data3)\n",
    "print('No hay planetas detectados por Timing')\n",
    "\n",
    "\n",
    "# planetas detectados por Microlensing\n",
    "query4 = \"SELECT target_name,detection_type,mass,period FROM exoplanet.epn_core WHERE detection_type='Microlensing' and mass<20\" \n",
    "#print(type(query))  me dice que es un string\n",
    "planets_micro = service.search(query4)  # obtengo una tabla con los datos del query\n",
    "table4 = planets_micro.to_table()  # ahora la transformo en una 'astropy table'  (otro formato)\n",
    "data4 = table4.to_pandas()  # ahora la transformo en un 'data frame' usando pandas (otro formato)\n",
    "#print(data4)\n",
    "m_micro = data4['mass']\n",
    "#print(m_micro)\n",
    "#aca simplemente hago el histograma de los datos con sus frecuencias \n",
    "plt.hist(m_micro, density = True, histtype = 'step', lw = 3, label = 'Microlensing')\n",
    "\n",
    "# Grafico todo junto\n",
    "plt.xlabel('Masa de Exoplanetas [M_Jup]')\n",
    "plt.ylabel('Frecuencias')\n",
    "plt.legend()\n",
    "plt.title('Distribucion de Masa de los exoplanetas detectados con distintas tecnicas')\n",
    "plt.show()\n",
    "\n",
    "# planetas detectados por Primary Transit\n",
    "query5 = \"SELECT target_name,detection_type,mass,period FROM exoplanet.epn_core WHERE detection_type='Primary Transit' and mass<20\" \n",
    "#print(type(query))  me dice que es un string\n",
    "planets_transit = service.search(query5)  # obtengo una tabla con los datos del query\n",
    "table5 = planets_transit.to_table()  # ahora la transformo en una 'astropy table'  (otro formato)\n",
    "data5 = table5.to_pandas()  # ahora la transformo en un 'data frame' usando pandas (otro formato)\n",
    "#print(data5)\n",
    "m_transit = data5['mass']\n",
    "#print(m_transit)\n",
    "#aca simplemente hago el histograma de los datos con sus frecuencias \n",
    "plt.hist(m_transit, density = True, histtype = 'step', lw = 3 , color='red',label = 'Primary Transit')\n",
    "\n",
    "\n",
    "# planetas detectados por Astrometry\n",
    "query6 = \"SELECT target_name,detection_type,mass,period FROM exoplanet.epn_core WHERE detection_type='Astrometry' and mass<20\" \n",
    "#print(type(query))  me dice que es un string\n",
    "planets_astrom = service.search(query6)  # obtengo una tabla con los datos del query\n",
    "table6 = planets_astrom.to_table()  # ahora la transformo en una 'astropy table'  (otro formato)\n",
    "data6 = table6.to_pandas()  # ahora la transformo en un 'data frame' usando pandas (otro formato)\n",
    "#print(data6)\n",
    "m_astrom  = data6['mass']\n",
    "#print(m_astrom)\n",
    "#aca simplemente hago el histograma de los datos con sus frecuencias \n",
    "plt.hist(m_astrom, density = True, histtype = 'step' , lw = 3, color='darkblue',label = 'Astrometry')\n",
    "\n",
    "# planetas detectados por TTV\n",
    "query7 = \"SELECT target_name,detection_type,mass,period FROM exoplanet.epn_core WHERE detection_type='TTV' and mass<20\" \n",
    "#print(type(query))  me dice que es un string\n",
    "planets_TTV = service.search(query7)  # obtengo una tabla con los datos del query\n",
    "table7 = planets_TTV.to_table()  # ahora la transformo en una 'astropy table'  (otro formato)\n",
    "data7 = table7.to_pandas()  # ahora la transformo en un 'data frame' usando pandas (otro formato)\n",
    "#print(data7)\n",
    "m_TTV  = data7['mass']\n",
    "#print(m_TTV)\n",
    "#aca simplemente hago el histograma de los datos con sus frecuencias \n",
    "plt.hist(m_TTV, density = True, histtype = 'step',lw = 3 ,color='black' ,label = 'TTV')\n",
    "\n",
    "# planetas detectados por Pulsar\n",
    "query8 = \"SELECT target_name,detection_type,mass,period FROM exoplanet.epn_core WHERE detection_type='Pulsar' and mass<20\" \n",
    "#print(type(query))  me dice que es un string\n",
    "planets_pulsar = service.search(query8)  # obtengo una tabla con los datos del query\n",
    "table8 = planets_pulsar.to_table()  # ahora la transformo en una 'astropy table'  (otro formato)\n",
    "data8 = table8.to_pandas()  # ahora la transformo en un 'data frame' usando pandas (otro formato)\n",
    "#print(data8)\n",
    "m_pul = data8['mass']\n",
    "#print(m_pul)\n",
    "#aca simplemente hago el histograma de los datos con sus frecuencias \n",
    "plt.hist(m_pul, density = True, histtype = 'step', lw = 3,color='deeppink', label = 'Pulsar')\n",
    "\n",
    "# Grafico todo junto\n",
    "plt.xlabel('Masa de Exoplanetas [M_Jup]')\n",
    "plt.ylabel('Frecuencias')\n",
    "plt.legend()\n",
    "plt.title('Distribucion de Masa de los exoplanetas detectados con distintas tecnicas')\n",
    "plt.show()"
   ]
  },
  {
   "cell_type": "markdown",
   "metadata": {
    "id": "vfsRvLSf3ht_"
   },
   "source": [
    "Se puede observar que la mayoria de las tecnicas observcionales detectan muchos exoplanetas con masas en el rango $ 0 < M < 2.5 M_{Jup}$ ya que la mayoria de las distribuciones tienen un pico alli. Sin embargo, en el caso de la tecnica observacional 'Imaging' (deteccion del exoplaneta en imagenes astronomicas) esto no se cumple, y se nota que el pico de dicha distribucion se da alrededor de $ 11\\,M_{Jup} $ Con lo cual se puede advertir un sesgo en esta tecnica, ya que tiende a detectar mayoritariamente exoplanetas de masas intermedias, i.e en un rango de $7.5 < M < 15 M_{Jup}$.\n",
    "Por otro lado, si bien la mayoria de las distribuciones tienen un pico en el primer bin, (i.e muchos exoplanetas de baja masa detectados)  es notable que la tecnica TTV tiene un pico mucho mas grande y practicamente no se han detectado exoplanetas de masas mayores a $ 7 M_{Jup}$ con ese metodo. Con lo cual es probable que exista un sesgo en dicha tecnica, de tal forma que tiende a detectar solamente planetas de baja masa (i.e principalmente masas menores a $ 1 M_{Jup}$).\n"
   ]
  },
  {
   "cell_type": "code",
   "execution_count": null,
   "metadata": {
    "colab": {
     "base_uri": "https://localhost:8080/",
     "height": 573
    },
    "id": "i8-2WhmfxQZE",
    "outputId": "4c204f71-40c9-4506-cdde-7fcb8d45bce8"
   },
   "outputs": [],
   "source": [
    "## Ahora se estudian las distribuciones de los periodos oribitales\n",
    "\n",
    "# planetas detectados por Imaging \n",
    "p_img = data1['period']\n",
    "#print(p_img)\n",
    "#aca simplemente hago el histograma de los datos con sus frecuencias , Escala logaritmica en los periodos\n",
    "p1 = np.log(p_img)\n",
    "plt.hist(p1, density=True, histtype = 'step', lw = 3, label = 'Imaging')\n",
    "\n",
    "\n",
    "# planetas detectados por Microlensing\n",
    "p_micro = data4['period']\n",
    "#print(p_micro)\n",
    "p4 = np.log(p_micro)\n",
    "#aca simplemente hago el histograma de los datos con sus frecuencias \n",
    "plt.hist(p4, density = True, histtype = 'step', lw = 3, label = 'Microlensing')\n",
    "\n",
    "# planetas detectados por Primary Transit\n",
    "p_transit = data5['period']\n",
    "#print(p_transit)\n",
    "p5 = np.log(p_transit)\n",
    "#aca simplemente hago el histograma de los datos con sus frecuencias \n",
    "plt.hist(p5, density = True, histtype = 'step', lw = 3, label = 'Primary Transit')\n",
    "\n",
    "# planetas detectados por Astrometry\n",
    "p_astrom  = data6['period']\n",
    "#print(p_astrom)\n",
    "p6 = np.log(p_astrom)\n",
    "#aca simplemente hago el histograma de los datos con sus frecuencias \n",
    "plt.hist(p6, density = True, histtype = 'step', lw = 3, label = 'Astrometry')\n",
    "\n",
    "plt.xlabel('Logaritmo del Periodo Orbital [log(dias)]')\n",
    "plt.ylabel('Frecuencias')\n",
    "plt.legend()\n",
    "plt.title('Distribucion de Periodos de los exoplanetas detectados con distintas tecnicas en escala logaritmica')\n",
    "plt.show()\n",
    "\n",
    "# planetas detectados por TTV\n",
    "p_TTV  = data7['period']\n",
    "#print(p_TTV)\n",
    "p7 = np.log(p_TTV )\n",
    "#aca simplemente hago el histograma de los datos con sus frecuencias \n",
    "plt.hist(p7, density = True, histtype = 'step', lw = 3, color='darkblue' , label = 'TTV')\n",
    "\n",
    "\n",
    "# planetas detectados por Pulsar\n",
    "p_pul  = data8['period']\n",
    "#print(p_pul)\n",
    "p8 = np.log(p_pul)\n",
    "#aca simplemente hago el histograma de los datos con sus frecuencias \n",
    "plt.hist(p8, density = True, histtype = 'step', lw = 3, color='black',label = 'Pulsar')\n",
    "\n",
    "# planetas detectados por Radial Velocity\n",
    "p_radvel = data2['period']\n",
    "#print(p_radvel)\n",
    "p2 = np.log(p_radvel)\n",
    "#aca simplemente hago el histograma de los datos con sus frecuencias \n",
    "plt.hist(p2, density=True, histtype = 'step', lw = 3, color='deeppink', label = 'Radial Velocity')\n",
    "\n",
    "plt.xlabel('Logaritmo del Periodo Orbital [log(dias)]')\n",
    "plt.ylabel('Frecuencias')\n",
    "plt.legend()\n",
    "plt.title('Distribucion de Periodos de los exoplanetas detectados con distintas tecnicas en escala logaritmica')\n",
    "plt.show()"
   ]
  },
  {
   "cell_type": "markdown",
   "metadata": {
    "id": "s8KB_Wg6P_aX"
   },
   "source": [
    "En este caso, no se observa un patron general en las distribuciones. Con algunas de las tecnicas, se han detectado exoplanetas abarcando un amplio rango de distintos periodos orbitales. Por ejemplo con el metodo Imaging los posibles periodos abarcan el rango $5 < \\log(P[dias]) < 15$, con el de Radial Velocity y Pulsar se abarca un rango de $-3 < \\log(P[dias]) < 10$. \n",
    "En cambio, con otras tecnicas se detectan exoplanetas con ciertos periodos orbitales que abarcan un intervalo mas acotado y podrian estar sesgadas. Tal es el caso de los exoplanetas detectados por el metodo Microlensing (donde $7 < \\log(P[dias]) < 8.5$) o Astrometry (donde $5 < \\log(P[dias]) < 9$).\n",
    "\n",
    "Ademas, existe una gran diversidad en cuanto al periodo mas probable de cada distribucion. Se observa que algunas no tienen un pico bien definido en la distribucion de los periodos orbitales; tal es el caso de la tecnica 'Astrometry', 'Pulsar' y 'Radial Velocity'. En estos casos no es claro que haya una tendencia a detectar planetas con cierto periodo orbital. En cambio, con la tecnica 'Primary Transit' se observa una tendencia a detectar exoplanetas con periodos alrededor del valor $\\log(P[dias])= 1.5 $ (i.e exoplanetas con periodos mas bien cortos entre 1 y 12 dias), mientras que con la tecnica 'Imaging' la mayoria de los exoplanetas tienen periodos alrededor de  $\\log(P[dias])= 11 $ (i.e exoplanetas con periodos mas largos, entre 22.000 y 160.000 dias). Por ultimo, con la tecnica 'Microlensing' se observa que la mayoria de los exoplanetas tienen un periodo orbital del orden de $\\log(P[dias])= 8 $ (i.e exoplanetas con periodos, entre 1000 y 5000 dias). "
   ]
  },
  {
   "cell_type": "markdown",
   "metadata": {
    "id": "nq7Y48vs1wbX"
   },
   "source": [
    "#### Ejercicio 7: Distribución de Distancias a Estrellas con Exoplanetas\n",
    "\n",
    "A continuacion, se busca determinar si la distribucion de semiejes mayores de las orbitas de los exoplanetas es consistente con una distribucion (teorica) Gaussiana. Para esto se utilizara el Metodo Kolmogorv-Smirnov para una muestra, (one-sample KS test). Este metodo consiste en estabalecer una hipotesis nula y alternativa, en este caso serian:\n",
    "\n",
    "Hipotesis Nula: $\\ H_0=$  La muestra empirica sigue una distribucion Gaussiana con un nivel de significancia $\\alpha=0.05$\n",
    "\n",
    "Hipotesis Alternativa: $\\ H_a=$  La muestra no procede de una distribucion Gaussiana con un nivel de significancia $\\alpha=0.05$\n",
    "\n",
    "Luego se calcula un estadistico definido como : \n",
    "$$D=max |F_{1}(x)-F_{2}(x)|\\\\ x\\in I$$\n",
    "\n",
    "$0 ≤ D ≤ 1$; donde $I$ es algun intervalo y $F_{1}(x)$ y $F_{2}(x)$ son las funciones acumuladas de la distribucion empirica y  Gaussiana respectivamente. Es decir que se calcula la distancia maxima que existe entre ambas funciones para algun $x_i$ y se compara ese valor con otro valor de referencia, el cual depende de los grados de libertad $n$ y el nivel de significancia $\\alpha$. Si el estadistico calculado supera el valor de referencia, entonces es poco probable (para el nivel de significancia dado) que la muestra siga la distribucion teorica establecida en la hipotesis nula. \n",
    "\n",
    "$$ Zona\\,\\,de\\,\\,aceptacion: D < D_{KS,\\alpha;n}\\\\ $$ \n",
    "$$ Zona\\,\\,de\\,\\,rechazo: D \\geq D_{KS,\\alpha;n}\\\\ $$\n",
    "\n",
    "Ademas, se puede utilizar el valor-p o p-value que provee este metodo:\n",
    "\n",
    "$$ Zona\\,\\,de\\,\\,aceptacion: p-value > \\alpha \\\\ $$ \n",
    "$$ Zona\\,\\,de\\,\\,rechazo: p-value \\leq \\alpha \\\\ $$"
   ]
  },
  {
   "cell_type": "code",
   "execution_count": null,
   "metadata": {
    "colab": {
     "base_uri": "https://localhost:8080/",
     "height": 312
    },
    "id": "poo12b1GzFVg",
    "outputId": "0717b0fa-1df1-4717-ef4c-99b7ac57fa0e"
   },
   "outputs": [],
   "source": [
    "# Obtengo los semiejes mayores (UA)\n",
    "query9 = \"SELECT target_name,semi_major_axis FROM exoplanet.epn_core WHERE mass<20\" \n",
    "#print(type(query))  me dice que es un string\n",
    "major_axis = service.search(query9)  # obtengo una tabla con los datos del query\n",
    "table9 = major_axis.to_table()  #esto es una astropy table que se puede transformar en dataframe\n",
    "data9 = table9.to_pandas()  # ahora la transformo en un 'data frame' usando pandas (otro formato)\n",
    "#print(data9)\n",
    "# Inner Join\n",
    "exo_axis  = pd.merge(left = data9, right = data, how = 'inner',on = 'target_name')\n",
    "#print('este es el tamño de la tabla act',exo_axis.shape)\n",
    "#print(exo_axis)\n",
    "\n",
    "dist = data9['semi_major_axis'][~data9['semi_major_axis'].isna()] # saco los Nan\n",
    "#print(dist)\n",
    "a = dist.loc[dist < 2]\n",
    "#print(a)\n",
    "\n",
    "#aca simplemente hago el histograma de los datos con sus frecuencias \n",
    "plt.hist(a, bins='auto',density = True)\n",
    "plt.xlabel('Semieje Mayor [UA]')\n",
    "plt.ylabel('Frecuencias')\n",
    "plt.title('Distribucion de Semieje Mayor de las Orbitas de Exoplanetas')\n",
    "\n",
    "sp.kstest(a,'norm')\n"
   ]
  },
  {
   "cell_type": "markdown",
   "metadata": {
    "id": "-XqLIt2R2Or3"
   },
   "source": [
    "Se obtiene como resultado $D = 0.5017553403698662 $ y $p-value = pvalue=8.900347328192646e-270$, dado que $p-value < \\alpha$, se rechaza la hipotesis nula, es decir que no se tiene suficiente evidencia para concluir que las distancias a las estrellas con exoplanetas sigue una distribucion Gaussiana."
   ]
  },
  {
   "cell_type": "markdown",
   "metadata": {
    "id": "fAc4KMg32SFb"
   },
   "source": [
    "#### Ejercicio 8: Relacion Masa versus Radio de Exoplanetas\n",
    "\n",
    "EL objetivo de este ejercicio es buscar una relacion entre la masa y el radio de exoplanetas, para luego proponer y ajustar un modelo que reproduzca dicha relacion.\n",
    "\n",
    "Para esto se se grafican los pares $ (\\,\\log(M) ; \\log(R)\\,) $ y se propone una ley de potencias para la relacion entre la masa y el radio:\n",
    "\n",
    "$$ M(R) = \\beta R^\\alpha $$   Con lo cual se tiene que:\n",
    "\n",
    "$$ log(M) = \\alpha \\log(R) + \\log(\\beta) $$ \n",
    "Es decir que basta realizar un ajuste lineal de la forma $$ y = A x + Β $$ \n",
    "donde $ A = \\alpha\\,\\,$ y $\\,\\,Β = \\log(\\beta) $.\n",
    "\n",
    "Por lo tanto, se ajusta una recta a los pares de puntos graficados para obtener los parametros del modelo $\\alpha$ y $\\beta$. "
   ]
  },
  {
   "cell_type": "code",
   "execution_count": null,
   "metadata": {
    "colab": {
     "base_uri": "https://localhost:8080/",
     "height": 331
    },
    "id": "uyGpx2Er1tjd",
    "outputId": "65164250-d8c7-4a88-bfc5-fa0713b9bb01"
   },
   "outputs": [],
   "source": [
    "# Obtengo las masas y radios de los exoplanetas\n",
    "query10 = \"SELECT target_name,mass,radius FROM exoplanet.epn_core WHERE mass<20\"\n",
    "results_10 = service.search(query10)  # obtengo una tabla con los datos del query\n",
    "table10 = results_10.to_table()  # ahora la transformo en una 'astropy table' \n",
    "data10 = table10.to_pandas()  # ahora la transformo en un 'data frame' usando pandas (otro formato)\n",
    "#print(data10) \n",
    "# Inner Join\n",
    "exo_mr  = pd.merge(left = data10, right = exo_axis, how = 'inner',on = 'target_name' )\n",
    "#print(exo_mr)\n",
    "exo_mr.to_csv('Exoplanets_Data.csv')   #para guardar datos \n",
    "\n",
    "query11 = \"SELECT target_name,mass,radius FROM exoplanet.epn_core WHERE mass<20 and mass!='Nan' and radius!='Nan'\"\n",
    "results_11 = service.search(query11)  # obtengo una tabla con los datos del query\n",
    "table11 = results_11.to_table()  # ahora la transformo en una 'astropy table' \n",
    "data11 = table11.to_pandas()  # ahora la transformo en un 'data frame' usando pandas (otro formato)\n",
    "#print(data11) \n",
    "\n",
    " \n",
    "#aca simplemente hago el grafico de los datos todo en escala logaritmica\n",
    "m = np.log(data11['mass'])\n",
    "r = np.log(data11['radius'])\n",
    "#print(m)\n",
    "#print(r)\n",
    "\n",
    "plt.plot(r , m , '.' , color='r', markersize=2)\n",
    "plt.xlabel('Log(Radio)  [log(R_Jup)]')\n",
    "plt.ylabel('Log(Masa)  [log(M_ Jup)]')\n",
    "plt.title('Relacion log(Masa) vs log(Radio) de Exoplanetas')\n",
    "\n",
    "#Hago un ajuste lineal\n",
    "ajuste = np.polyfit(r,m,1)\n",
    "print(ajuste) # estos son los parametros del ajuste\n",
    "t = np.linspace(-4,2)\n",
    "#print(t)    \n",
    "plt.plot(t, ajuste[0]*t+ajuste[1], 'b') # esta es la recta que predice el modelo\n",
    "plt.grid()\n",
    "\n",
    "alpha=ajuste[0]\n",
    "beta = np.exp(ajuste[1])\n",
    "print('Los valores de los parametros alpha y beta son respectivamente:',alpha,beta)\n"
   ]
  },
  {
   "cell_type": "markdown",
   "metadata": {
    "id": "44MAcTOW3JHC"
   },
   "source": [
    "A partir del ajuste se obtuvieron los valores de $\\alpha=1.91$ y $\\beta=0.75$; por lo tanto el modelo predice una relacion entre la masa y y el radio de exoplanetas de la forma: \n",
    "\n",
    "$$ M(R) = 0.75R^{1.91} $$"
   ]
  },
  {
   "cell_type": "markdown",
   "metadata": {
    "id": "TNyVPIPZYQat"
   },
   "source": [
    "A continuacion, se toma el 80% de los datos (radio, masa) de exoplanetas y se le ajustan polinomios de grado 0 a 10, luego con los pararmetros de los ajustes se obtienen 2 polinomios, uno evaluado en el 80% de la poblacion (train) con el cual se realizo el ajuste, y otro evaluado en el 20% restante (datos que no se usaron para hacer el ajuste ). A continuacion se calcula y grafica el error para ambas muestras y para cada grado de polinomio utilizado. En aquel punto donde las curvas se separan notablemente entre si significa que ese es el grado maximo de polinomio que se deberia utilizar; ya que si se utiliza un polinomio de grado mayor para realizar el ajuste se estaria sobreajustando los datos. "
   ]
  },
  {
   "cell_type": "code",
   "execution_count": null,
   "metadata": {
    "colab": {
     "base_uri": "https://localhost:8080/",
     "height": 314
    },
    "id": "xClnVT6_3JTR",
    "outputId": "2b8f48a9-ff0f-47a8-d9f2-5a705ae3e918"
   },
   "outputs": [],
   "source": [
    "\n",
    "x_train, x_test, y_train, y_test = train_test_split(r,m,test_size=0.2)  \n",
    "\n",
    "# el 80 % de los datos van a estar en (x_train,y_train) y el 20% restante de\n",
    "#los datos en (x_test,y_test)\n",
    "print(x_train.shape)\n",
    "print(x_test.shape)\n",
    "\n",
    "e_train =[]\n",
    "e_test= []\n",
    "for i in range(0,11):\n",
    "    p = np.polyfit(x_train,y_train,i)  #esto contiene  los parametros del polinomio\n",
    "    poli = np.poly1d(p) # aca le doy los parametros y me devuelve ya el polinomio con los pararmetros\n",
    "    poli(x_train)\n",
    "    poli(x_test)\n",
    "    e_train.append(  (np.sum((poli(x_train)-y_train)**2))/len(x_train) )\n",
    "    e_test.append( (np.sum((poli(x_test)-y_test)**2))/len(x_test) )\n",
    "\n",
    "\n",
    "plt.plot(e_train, label = 'e_train')\n",
    "plt.plot(e_test, label = 'e_test')\n",
    "plt.legend()  \n",
    "plt.xlabel('Grado de Polinomio')\n",
    "plt.ylabel('Error')\n",
    "plt.semilogy()\n",
    "plt.show()\n"
   ]
  },
  {
   "cell_type": "markdown",
   "metadata": {
    "id": "oBtexnwDZ3Tb"
   },
   "source": [
    "Se observa que efectivamente las curvas se separan para n=1 (n es el grado de polinomio). Por lo tanto, fue correcto realizar un ajuste lineal a los datos de las masas vs radio de exoplanetas."
   ]
  },
  {
   "cell_type": "markdown",
   "metadata": {
    "id": "9wqcPppcakbh"
   },
   "source": [
    "####  CONCLUSIONES"
   ]
  },
  {
   "cell_type": "markdown",
   "metadata": {
    "id": "_uEwneBJa0LZ"
   },
   "source": [
    "En este trabajo se analizaron distintas propiedades de los exoplanetas descubiertos, utilizando la Base de Datos exoplanet.eu.\n",
    "En primer lugar, existen ciertos sesgos introducidos por algunas de las tecnicas de deteccion de exoplanetas en el tipo de propiedades que mas se observan en los mismos. Se encontro que efectivamente algunos metodos observacionales tienden a detectar planetas mas masivos (Imaging) o bien menos masivos (TTV) en compararcion con las demas tecnicas. Ademas, con la tecnica 'Primary Transit' se observa una tendencia a detectar exoplanetas con periodos mas bien cortos (entre 1 y 12 dias), mientras que con la tecnica 'Imaging' se sueleen detetctar mas bien exoplanetas con periodos mas largos (entre 22.000 y 160.000 dias) en comparacion con las otras tecnicas.\n",
    "Por otro lado, se grafico la distribucion de probabilidad para el semieje mayor de la orbita de los exoplanetas descubiertos y se la comparon con una distribucion gaussiana utilizando el test de Kolmogorov-Smirnov. Se encontro que no existe suficiente evidencia para concluir que la distribucion empirica obtenida sea consistente con una distribucion normal. Esto puede ser debido a que el semieje mayor efectivamente siga otra distribucion, o bien prodria ser por algun sesgo que introducen todas las tencicas de deteccion que hace que haya una tendencia a descubrir exoplanetas con semiejes entre 0 y 0.25 UA.\n",
    "Por ultimo, se estudio la relacion entre la masa y el radio de los exoplanetas y ajustando un modelo en base a los datos se encontro que siguen la siguiente relacion $ M(R) = 0.75R^{1.91}$.\n",
    "\n",
    "\n"
   ]
  }
 ],
 "metadata": {
  "colab": {
   "collapsed_sections": [],
   "provenance": []
  },
  "kernelspec": {
   "display_name": "Python 3 (ipykernel)",
   "language": "python",
   "name": "python3"
  },
  "language_info": {
   "codemirror_mode": {
    "name": "ipython",
    "version": 3
   },
   "file_extension": ".py",
   "mimetype": "text/x-python",
   "name": "python",
   "nbconvert_exporter": "python",
   "pygments_lexer": "ipython3",
   "version": "3.10.6"
  }
 },
 "nbformat": 4,
 "nbformat_minor": 1
}
