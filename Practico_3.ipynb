{
 "cells": [
  {
   "cell_type": "markdown",
   "id": "11ca154b-7f73-4ea8-b623-c9d85f002531",
   "metadata": {},
   "source": [
    "## Informe Trabajo Práctico 3\n",
    "\n",
    "#### Agustina Colazo\n"
   ]
  },
  {
   "cell_type": "code",
   "execution_count": null,
   "id": "057e309f-7b19-4124-bdaf-0830e29c3807",
   "metadata": {},
   "outputs": [],
   "source": []
  }
 ],
 "metadata": {
  "kernelspec": {
   "display_name": "Python 3 (ipykernel)",
   "language": "python",
   "name": "python3"
  },
  "language_info": {
   "codemirror_mode": {
    "name": "ipython",
    "version": 3
   },
   "file_extension": ".py",
   "mimetype": "text/x-python",
   "name": "python",
   "nbconvert_exporter": "python",
   "pygments_lexer": "ipython3",
   "version": "3.9.7"
  }
 },
 "nbformat": 4,
 "nbformat_minor": 5
}
