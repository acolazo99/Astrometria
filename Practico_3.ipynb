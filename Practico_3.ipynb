{
 "cells": [
  {
   "cell_type": "markdown",
   "id": "11ca154b-7f73-4ea8-b623-c9d85f002531",
   "metadata": {},
   "source": [
    "## Informe Trabajo Práctico 3\n",
    "\n",
    "#### Agustina Colazo\n"
   ]
  },
  {
   "cell_type": "markdown",
   "id": "fbbf98b0-e4ab-4ea1-99ab-5a61961211bc",
   "metadata": {},
   "source": [
    "Ejercicio "
   ]
  },
  {
   "cell_type": "code",
   "execution_count": null,
   "id": "8b16d4d8-f32e-45d9-a2e2-3414487088c1",
   "metadata": {},
   "outputs": [],
   "source": []
  }
 ],
 "metadata": {
  "kernelspec": {
   "display_name": "Python 3 (ipykernel)",
   "language": "python",
   "name": "python3"
  },
  "language_info": {
   "codemirror_mode": {
    "name": "ipython",
    "version": 3
   },
   "file_extension": ".py",
   "mimetype": "text/x-python",
   "name": "python",
   "nbconvert_exporter": "python",
   "pygments_lexer": "ipython3",
   "version": "3.9.7"
  }
 },
 "nbformat": 4,
 "nbformat_minor": 5
}
